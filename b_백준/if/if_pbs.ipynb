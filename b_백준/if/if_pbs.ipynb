{
 "metadata": {
  "language_info": {
   "codemirror_mode": {
    "name": "ipython",
    "version": 3
   },
   "file_extension": ".py",
   "mimetype": "text/x-python",
   "name": "python",
   "nbconvert_exporter": "python",
   "pygments_lexer": "ipython3",
   "version": "3.7.7-final"
  },
  "orig_nbformat": 2,
  "kernelspec": {
   "name": "python_defaultSpec_1600908660507",
   "display_name": "Python 3.7.7 64-bit"
  }
 },
 "nbformat": 4,
 "nbformat_minor": 2,
 "cells": [
  {
   "source": [
    "# 1330"
   ],
   "cell_type": "markdown",
   "metadata": {}
  },
  {
   "cell_type": "code",
   "execution_count": 3,
   "metadata": {
    "tags": []
   },
   "outputs": [
    {
     "output_type": "stream",
     "name": "stdout",
     "text": "<\n"
    }
   ],
   "source": [
    "nums = input().split(' ')\n",
    "num_1 = int(nums[0])\n",
    "num_2 = int(nums[1])\n",
    "\n",
    "if num_1 < num_2:\n",
    "    print('<')\n",
    "elif num_1 > num_2:\n",
    "    print('>')\n",
    "else:\n",
    "    print('==')"
   ]
  },
  {
   "source": [
    "# 9498 "
   ],
   "cell_type": "markdown",
   "metadata": {}
  },
  {
   "cell_type": "code",
   "execution_count": null,
   "metadata": {},
   "outputs": [],
   "source": [
    "num = int(input())\n",
    "\n",
    "if num < 60:\n",
    "    print('F')\n",
    "elif num < 70 :\n",
    "    print('D')\n",
    "elif num < 80 :\n",
    "    print('C')\n",
    "elif num < 90 :\n",
    "    print('B')\n",
    "else :\n",
    "    print('A')"
   ]
  },
  {
   "source": [
    "# 2753"
   ],
   "cell_type": "markdown",
   "metadata": {}
  },
  {
   "cell_type": "code",
   "execution_count": null,
   "metadata": {},
   "outputs": [],
   "source": [
    "num = int(input())\n",
    "\n",
    "if num%4 == 0 and num%100 != 0:\n",
    "    print('1')\n",
    "elif num%400 == 0:\n",
    "    print('1')\n",
    "else :\n",
    "    print('0')"
   ]
  },
  {
   "source": [
    "# 14681"
   ],
   "cell_type": "markdown",
   "metadata": {}
  },
  {
   "cell_type": "code",
   "execution_count": null,
   "metadata": {},
   "outputs": [],
   "source": [
    "num_1 = int(input())\n",
    "num_2 = int(input())\n",
    "\n",
    "if num_1 >0 and num_2 >0:\n",
    "    print('1')\n",
    "elif num_1 < 0 and num_2>0:\n",
    "    print('2')\n",
    "elif num_1 <0 and num_2<0:\n",
    "    print('3')\n",
    "else :\n",
    "    print('4')"
   ]
  },
  {
   "source": [
    "# 2884"
   ],
   "cell_type": "markdown",
   "metadata": {}
  },
  {
   "cell_type": "code",
   "execution_count": 4,
   "metadata": {
    "tags": []
   },
   "outputs": [
    {
     "output_type": "stream",
     "name": "stdout",
     "text": "23 45\n"
    }
   ],
   "source": [
    "nums = input().split(' ')\n",
    "H = int(nums[0])\n",
    "M = int(nums[1])\n",
    "\n",
    "if M >= 45:\n",
    "    M -= 45\n",
    "else :\n",
    "    H -=1\n",
    "    M = (60 - (45-M))\n",
    "\n",
    "if H == -1:\n",
    "    H = 23\n",
    "print(H,M)"
   ]
  },
  {
   "cell_type": "code",
   "execution_count": null,
   "metadata": {},
   "outputs": [],
   "source": []
  }
 ]
}