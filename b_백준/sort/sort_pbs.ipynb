{
 "metadata": {
  "language_info": {
   "codemirror_mode": {
    "name": "ipython",
    "version": 3
   },
   "file_extension": ".py",
   "mimetype": "text/x-python",
   "name": "python",
   "nbconvert_exporter": "python",
   "pygments_lexer": "ipython3",
   "version": "3.7.7-final"
  },
  "orig_nbformat": 2,
  "kernelspec": {
   "name": "Python 3.7.7 64-bit",
   "display_name": "Python 3.7.7 64-bit",
   "metadata": {
    "interpreter": {
     "hash": "f5a23dafa1167ad26407da34d61d47c6735277f7e3900a1acafb810bbe457929"
    }
   }
  }
 },
 "nbformat": 4,
 "nbformat_minor": 2,
 "cells": [
  {
   "source": [
    "# 2750\n",
    "수 정렬하기"
   ],
   "cell_type": "markdown",
   "metadata": {}
  },
  {
   "cell_type": "code",
   "execution_count": 2,
   "metadata": {},
   "outputs": [
    {
     "output_type": "stream",
     "name": "stdout",
     "text": [
      "1\n2\n3\n4\n5\n"
     ]
    }
   ],
   "source": [
    "N = int(input())\n",
    "\n",
    "nums = [0]*N\n",
    "for idx in range(N):\n",
    "    nums[idx] = int(input())\n",
    "\n",
    "# nums.sort()\n",
    "\n",
    "for i in range(N-1):\n",
    "\n",
    "    # 끝 지점을 계속 줄여준다 i를 통해\n",
    "    for j in range(0, N-1-i):\n",
    "        \n",
    "        # 현재 지점의 수가 다음 지점의 수보다 크다면, 자리 바꾼다.\n",
    "        if nums[j]> nums[j+1]:\n",
    "            nums[j], nums[j+1] = nums[j+1], nums[j]\n",
    "\n",
    "for n in nums:\n",
    "    print(n)"
   ]
  },
  {
   "source": [
    "# 2751\n",
    "\n",
    "1 <= N <= 10^6"
   ],
   "cell_type": "markdown",
   "metadata": {}
  },
  {
   "cell_type": "code",
   "execution_count": 10,
   "metadata": {},
   "outputs": [
    {
     "output_type": "error",
     "ename": "ValueError",
     "evalue": "invalid literal for int() with base 10: ''",
     "traceback": [
      "\u001b[0;31m---------------------------------------------------------------------------\u001b[0m",
      "\u001b[0;31mValueError\u001b[0m                                Traceback (most recent call last)",
      "\u001b[0;32m<ipython-input-10-cfc35cb08906>\u001b[0m in \u001b[0;36m<module>\u001b[0;34m\u001b[0m\n\u001b[0;32m----> 1\u001b[0;31m \u001b[0mN\u001b[0m \u001b[0;34m=\u001b[0m \u001b[0mint\u001b[0m\u001b[0;34m(\u001b[0m\u001b[0minput\u001b[0m\u001b[0;34m(\u001b[0m\u001b[0;34m)\u001b[0m\u001b[0;34m)\u001b[0m\u001b[0;34m\u001b[0m\u001b[0;34m\u001b[0m\u001b[0m\n\u001b[0m\u001b[1;32m      2\u001b[0m \u001b[0;34m\u001b[0m\u001b[0m\n\u001b[1;32m      3\u001b[0m \u001b[0;31m# 시간초과나옴!\u001b[0m\u001b[0;34m\u001b[0m\u001b[0;34m\u001b[0m\u001b[0;34m\u001b[0m\u001b[0m\n\u001b[1;32m      4\u001b[0m \u001b[0;34m\u001b[0m\u001b[0m\n\u001b[1;32m      5\u001b[0m \u001b[0;31m# nums = [0]*N\u001b[0m\u001b[0;34m\u001b[0m\u001b[0;34m\u001b[0m\u001b[0;34m\u001b[0m\u001b[0m\n",
      "\u001b[0;31mValueError\u001b[0m: invalid literal for int() with base 10: ''"
     ]
    }
   ],
   "source": [
    "N = int(input())\n",
    "\n",
    "# 시간초과나옴!\n",
    "\n",
    "# nums = [0]*N\n",
    "# for idx in range(N):\n",
    "#     nums[idx] = int(input())\n",
    "\n",
    "# nums.sort()\n",
    "\n",
    "# for n in nums:\n",
    "#     print(n)\n",
    "\n"
   ]
  },
  {
   "source": [
    "# 10989\n",
    "\n",
    "각 input은 10,000보다 작거나 같은 자연수\n",
    "\n",
    "counting sort로 풀어보자"
   ],
   "cell_type": "markdown",
   "metadata": {}
  },
  {
   "cell_type": "code",
   "execution_count": 9,
   "metadata": {},
   "outputs": [
    {
     "output_type": "stream",
     "name": "stdout",
     "text": [
      "1\n2\n3\n4\n5\n"
     ]
    }
   ],
   "source": [
    "N = int(input())\n",
    "\n",
    "_MAX = 10**4\n",
    "\n",
    "# nums = [0]*N\n",
    "\n",
    "# for idx in range(N):\n",
    "#     nums[idx] = int(input())\n",
    "\n",
    "# 메모리 초과 나온다!\n",
    "\n",
    "# result = [0 for i in range(_MAX)]\n",
    "# count = [0 for i in range(_MAX)]\n",
    "\n",
    "# for n in nums:\n",
    "#     count[n] += 1\n",
    "\n",
    "# for i in range(_MAX):\n",
    "#     count[i] += count[i-1]\n",
    "\n",
    "# for i in range(N):\n",
    "#     result[count[nums[i]]-1] = nums[i]\n",
    "#     count[nums[i]] -=1\n",
    "\n",
    "# for i in range(N):\n",
    "#     print(result[i])\n",
    "\n",
    "\n",
    "dic = {}\n",
    "\n",
    "for i in range(N):\n",
    "    n = int(input())\n",
    "\n",
    "    if n in dic:\n",
    "        dic[n] = dic[n] +1\n",
    "    else:\n",
    "        dic[n] = 1\n",
    "    \n",
    "for k,v in sorted(dic.items()):\n",
    "    print(k)"
   ]
  },
  {
   "cell_type": "code",
   "execution_count": null,
   "metadata": {},
   "outputs": [],
   "source": []
  }
 ]
}