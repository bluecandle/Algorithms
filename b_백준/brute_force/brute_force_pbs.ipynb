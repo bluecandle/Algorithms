{
 "metadata": {
  "language_info": {
   "codemirror_mode": {
    "name": "ipython",
    "version": 3
   },
   "file_extension": ".py",
   "mimetype": "text/x-python",
   "name": "python",
   "nbconvert_exporter": "python",
   "pygments_lexer": "ipython3",
   "version": "3.7.7-final"
  },
  "orig_nbformat": 2,
  "kernelspec": {
   "name": "Python 3.7.7 64-bit",
   "display_name": "Python 3.7.7 64-bit",
   "metadata": {
    "interpreter": {
     "hash": "f5a23dafa1167ad26407da34d61d47c6735277f7e3900a1acafb810bbe457929"
    }
   }
  }
 },
 "nbformat": 4,
 "nbformat_minor": 2,
 "cells": [
  {
   "source": [
    "# 2798\n",
    "블랙잭 "
   ],
   "cell_type": "markdown",
   "metadata": {}
  },
  {
   "cell_type": "code",
   "execution_count": 2,
   "metadata": {
    "tags": []
   },
   "outputs": [
    {
     "output_type": "stream",
     "name": "stdout",
     "text": "21\n"
    }
   ],
   "source": [
    "from itertools import combinations\n",
    "N,M = map(int,input().split(' '))\n",
    "nums = list(map(int,input().split(' ')))\n",
    "\n",
    "_max = 0 \n",
    "for comb in combinations(nums,3):\n",
    "    _sum = comb[0] + comb[1] + comb[2]\n",
    "\n",
    "    if _sum <= M:        \n",
    "        if _max < _sum:\n",
    "            _max = _sum\n",
    "            if _max == M :\n",
    "                break\n",
    "print(_max)"
   ]
  },
  {
   "source": [
    "# 2231\n",
    "분해합\n",
    "\n",
    "어떤 자연수 N이 있을 때, 그 자연수 N의 분해합은 N과 N을 이루는 각 자리수의 합을 의미한다. 어떤 자연수 M의 분해합이 N인 경우, M을 N의 생성자라 한다. 예를 들어, 245의 분해합은 256(=245+2+4+5)이 된다. 따라서 245는 256의 생성자가 된다. 물론, 어떤 자연수의 경우에는 생성자가 없을 수도 있다. 반대로, 생성자가 여러 개인 자연수도 있을 수 있다.\n",
    "\n",
    "자연수 N이 주어졌을 때, N의 가장 작은 생성자를 구해내는 프로그램을 작성하시오.\n",
    "\n",
    "--- \n",
    "minimum 지점을 정해서 풀어보려고 했는데, 다 풀었다고 뜨더니 런타임 에러가 떴다. 그래서 그냥 주제대로 무식하게 풀었다 "
   ],
   "cell_type": "markdown",
   "metadata": {}
  },
  {
   "cell_type": "code",
   "execution_count": 12,
   "metadata": {
    "tags": []
   },
   "outputs": [
    {
     "output_type": "stream",
     "name": "stdout",
     "text": "198\n"
    }
   ],
   "source": [
    "\n",
    "# S_N = input()\n",
    "\n",
    "# decomp = 0\n",
    "\n",
    "# for n in N:\n",
    "#     decomp += int(n)\n",
    "# N = int(N)\n",
    "# decomp += N\n",
    "\n",
    "# print(decomp)\n",
    "# I_N = int(S_N)\n",
    "# if I_N == 10**6:\n",
    "#     print(0)\n",
    "\n",
    "# else:\n",
    "## 자릿수만큼 9를 뺀 값을 최소 지점으로 놓고 생각해볼 수 있지 않을까?\n",
    "#     _min = I_N - 9*len(S_N)\n",
    "#     result = 0\n",
    "\n",
    "#     for num in range(_min,I_N):\n",
    "        \n",
    "#         s_num = str(num)\n",
    "#         decomp = 0\n",
    "#         for n in s_num:\n",
    "#             decomp += int(n)\n",
    "#         decomp += num\n",
    "#         if decomp == I_N:\n",
    "#             result = num\n",
    "#             break\n",
    "\n",
    "#     print(result)\n",
    "\n",
    "N = int(input())\n",
    "result = 0\n",
    "for num in range(1,N+1):\n",
    "    s_num = str(num)\n",
    "    decomp = 0\n",
    "    for n in s_num:\n",
    "        decomp+=int(n)\n",
    "    decomp+=num\n",
    "\n",
    "    if decomp == N:\n",
    "        result = num\n",
    "        break\n",
    "print(result)"
   ]
  },
  {
   "cell_type": "code",
   "execution_count": null,
   "metadata": {},
   "outputs": [],
   "source": []
  }
 ]
}