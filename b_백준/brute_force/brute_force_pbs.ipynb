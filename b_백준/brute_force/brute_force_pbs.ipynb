{
 "metadata": {
  "language_info": {
   "codemirror_mode": {
    "name": "ipython",
    "version": 3
   },
   "file_extension": ".py",
   "mimetype": "text/x-python",
   "name": "python",
   "nbconvert_exporter": "python",
   "pygments_lexer": "ipython3",
   "version": "3.8.5-final"
  },
  "orig_nbformat": 2,
  "kernelspec": {
   "name": "Python 3.8.5 64-bit ('web-practice': conda)",
   "display_name": "Python 3.8.5 64-bit ('web-practice': conda)",
   "metadata": {
    "interpreter": {
     "hash": "2c5d8da33ea155d9b108f7b63f21a29dd9161e7ff86759726434979a633fb70d"
    }
   }
  }
 },
 "nbformat": 4,
 "nbformat_minor": 2,
 "cells": [
  {
   "source": [
    "# 2798\n",
    "블랙잭 "
   ],
   "cell_type": "markdown",
   "metadata": {}
  },
  {
   "cell_type": "code",
   "execution_count": 2,
   "metadata": {
    "tags": []
   },
   "outputs": [
    {
     "output_type": "stream",
     "name": "stdout",
     "text": "21\n"
    }
   ],
   "source": [
    "from itertools import combinations\n",
    "N,M = map(int,input().split(' '))\n",
    "nums = list(map(int,input().split(' ')))\n",
    "\n",
    "_max = 0 \n",
    "for comb in combinations(nums,3):\n",
    "    _sum = comb[0] + comb[1] + comb[2]\n",
    "\n",
    "    if _sum <= M:        \n",
    "        if _max < _sum:\n",
    "            _max = _sum\n",
    "            if _max == M :\n",
    "                break\n",
    "print(_max)"
   ]
  },
  {
   "source": [
    "# 2231\n",
    "분해합\n",
    "\n",
    "어떤 자연수 N이 있을 때, 그 자연수 N의 분해합은 N과 N을 이루는 각 자리수의 합을 의미한다. 어떤 자연수 M의 분해합이 N인 경우, M을 N의 생성자라 한다. 예를 들어, 245의 분해합은 256(=245+2+4+5)이 된다. 따라서 245는 256의 생성자가 된다. 물론, 어떤 자연수의 경우에는 생성자가 없을 수도 있다. 반대로, 생성자가 여러 개인 자연수도 있을 수 있다.\n",
    "\n",
    "자연수 N이 주어졌을 때, N의 가장 작은 생성자를 구해내는 프로그램을 작성하시오.\n",
    "\n",
    "--- \n",
    "minimum 지점을 정해서 풀어보려고 했는데, 다 풀었다고 뜨더니 런타임 에러가 떴다. 그래서 그냥 주제대로 무식하게 풀었다 "
   ],
   "cell_type": "markdown",
   "metadata": {}
  },
  {
   "cell_type": "code",
   "execution_count": 12,
   "metadata": {
    "tags": []
   },
   "outputs": [
    {
     "output_type": "stream",
     "name": "stdout",
     "text": "198\n"
    }
   ],
   "source": [
    "\n",
    "# S_N = input()\n",
    "\n",
    "# decomp = 0\n",
    "\n",
    "# for n in N:\n",
    "#     decomp += int(n)\n",
    "# N = int(N)\n",
    "# decomp += N\n",
    "\n",
    "# print(decomp)\n",
    "# I_N = int(S_N)\n",
    "# if I_N == 10**6:\n",
    "#     print(0)\n",
    "\n",
    "# else:\n",
    "## 자릿수만큼 9를 뺀 값을 최소 지점으로 놓고 생각해볼 수 있지 않을까?\n",
    "#     _min = I_N - 9*len(S_N)\n",
    "#     result = 0\n",
    "\n",
    "#     for num in range(_min,I_N):\n",
    "        \n",
    "#         s_num = str(num)\n",
    "#         decomp = 0\n",
    "#         for n in s_num:\n",
    "#             decomp += int(n)\n",
    "#         decomp += num\n",
    "#         if decomp == I_N:\n",
    "#             result = num\n",
    "#             break\n",
    "\n",
    "#     print(result)\n",
    "\n",
    "N = int(input())\n",
    "result = 0\n",
    "for num in range(1,N+1):\n",
    "    s_num = str(num)\n",
    "    decomp = 0\n",
    "    for n in s_num:\n",
    "        decomp+=int(n)\n",
    "    decomp+=num\n",
    "\n",
    "    if decomp == N:\n",
    "        result = num\n",
    "        break\n",
    "print(result)"
   ]
  },
  {
   "source": [
    "# 7568\n",
    "덩치\n",
    "\n",
    "사람의 덩치를 키와 몸무게, 이 두 개의 값으로 표현하여 그 등수를 매겨보려고 한다. 어떤 사람의 몸무게가 x kg이고 키가 y cm라면 이 사람의 덩치는 (x,y)로 표시된다. 두 사람 A 와 B의 덩치가 각각 (x,y), (p,q)라고 할 때 x>p 그리고 y>q 이라면 우리는 A의 덩치가 B의 덩치보다 \"더 크다\"고 말한다. 예를 들어 어떤 A, B 두 사람의 덩치가 각각 (56,177), (45,165) 라고 한다면 A의 덩치가 B보다 큰 셈이 된다. 그런데 서로 다른 덩치끼리 크기를 정할 수 없는 경우도 있다. 예를 들어 두 사람 C와 D의 덩치가 각각 (45, 181), (55,173)이라면 몸무게는 D가 C보다 더 무겁고, 키는 C가 더 크므로, \"덩치\"로만 볼 때 C와 D는 누구도 상대방보다 더 크다고 말할 수 없다.\n",
    "\n",
    "N명의 집단에서 각 사람의 덩치 등수는 자신보다 더 \"큰 덩치\"의 사람의 수로 정해진다. 만일 자신보다 더 큰 덩치의 사람이 k명이라면 그 사람의 덩치 등수는 k+1이 된다. 이렇게 등수를 결정하면 같은 덩치 등수를 가진 사람은 여러 명도 가능하다.\n"
   ],
   "cell_type": "markdown",
   "metadata": {}
  },
  {
   "cell_type": "code",
   "execution_count": 7,
   "metadata": {},
   "outputs": [
    {
     "output_type": "stream",
     "name": "stdout",
     "text": [
      "2 1\n"
     ]
    }
   ],
   "source": [
    "N = int(input())\n",
    "\n",
    "cands = [None]*N\n",
    "for idx in range(N):\n",
    "    W, H = map(int,input().split(' '))\n",
    "    cands[idx] = [W,H,1]\n",
    "\n",
    "# 2 <= N < 50 이기 때문에, 최대 N**2 = 2500 번밖에 진행되지 않음.\n",
    "for cand in cands:\n",
    "    cand_W = cand[0]    \n",
    "    cand_H = cand[1]\n",
    "    cand_R = cand[2]\n",
    "\n",
    "    for comp in cands :\n",
    "        if comp[0] > cand_W and comp[1] > cand_H:\n",
    "            cand_R+=1\n",
    "    \n",
    "    cand[2] = cand_R\n",
    "\n",
    "\n",
    "ranks = str(cands[0][2])\n",
    "for idx in range(1,N):\n",
    "    ranks += ' '\n",
    "    ranks += str(cands[idx][2])\n",
    "print(ranks)\n"
   ]
  },
  {
   "source": [
    "# 1018\n",
    "\n",
    "체스판 다시 칠하기\n",
    "\n",
    "지민이는 자신의 저택에서 MN개의 단위 정사각형으로 나누어져 있는 M*N 크기의 보드를 찾았다. 어떤 정사각형은 검은색으로 칠해져 있고, 나머지는 흰색으로 칠해져 있다. 지민이는 이 보드를 잘라서 8*8 크기의 체스판으로 만들려고 한다.\n",
    "\n",
    "체스판은 검은색과 흰색이 번갈아서 칠해져 있어야 한다. 구체적으로, 각 칸이 검은색과 흰색 중 하나로 색칠되어 있고, 변을 공유하는 두 개의 사각형은 다른 색으로 칠해져 있어야 한다. 따라서 이 정의를 따르면 체스판을 색칠하는 경우는 두 가지뿐이다. 하나는 맨 왼쪽 위 칸이 흰색인 경우, 하나는 검은색인 경우이다.\n",
    "\n",
    "보드가 체스판처럼 칠해져 있다는 보장이 없어서, 지민이는 8*8 크기의 체스판으로 잘라낸 후에 몇 개의 정사각형을 다시 칠해야겠다고 생각했다. 당연히 8*8 크기는 아무데서나 골라도 된다. 지민이가 다시 칠해야 하는 정사각형의 최소 개수를 구하는 프로그램을 작성하시오."
   ],
   "cell_type": "markdown",
   "metadata": {}
  },
  {
   "cell_type": "code",
   "execution_count": 12,
   "metadata": {},
   "outputs": [
    {
     "output_type": "stream",
     "name": "stdout",
     "text": [
      "8 8\n",
      "['WBWBWBWB', 'WBWBWBWB', 'WBWBWBWB', 'WBWBWBWB', 'BWBWBWBW', 'BWBWBWBW', 'BWBWBWBW', 'BWBWBWBW']\n",
      "['WBWBWBWB', 'BWBWBWBW', 'WBWBWBWB', 'BWBWBWBW', 'WBWBWBWB', 'BWBWBWBW', 'WBWBWBWB', 'BWBWBWBW']\n",
      "#####\n",
      "['BWBWBWBW', 'WBWBWBWB', 'BWBWBWBW', 'WBWBWBWB', 'BWBWBWBW', 'WBWBWBWB', 'BWBWBWBW', 'WBWBWBWB']\n",
      "[[['WBWBWBWB', 'WBWBWBWB', 'WBWBWBWB', 'WBWBWBWB', 'BWBWBWBW', 'BWBWBWBW', 'BWBWBWBW', 'BWBWBWBW'], 0]]\n",
      "[['WBWBWBWB', 'WBWBWBWB', 'WBWBWBWB', 'WBWBWBWB', 'BWBWBWBW', 'BWBWBWBW', 'BWBWBWBW', 'BWBWBWBW'], 0]\n"
     ]
    }
   ],
   "source": [
    "N,M = map(int,input().split(' '))\n",
    "# print(N,M)\n",
    "\n",
    "cands_str = [None]*N\n",
    "cands_split = [None]*N\n",
    "for idx in range(N): \n",
    "    _input = input()   \n",
    "    cands_str[idx] = _input\n",
    "    cands_split[idx] = list(_input)\n",
    "\n",
    "# cands shape = (N,M)\n",
    "# print(cands_str)\n",
    "# 하나는 맨 왼쪽 위 칸이 흰색인 경우, 하나는 검은색인 경우이다.\n",
    "option_1 = [None]*8\n",
    "option_2 = [None]*8\n",
    "for idx in range(4):\n",
    "    option_1[idx*2] = 'WBWBWBWB'\n",
    "    option_1[idx*2+1] = 'BWBWBWBW'\n",
    "    option_2[idx*2] = 'BWBWBWBW'\n",
    "    option_2[idx*2+1] = 'WBWBWBWB'\n",
    "\n",
    "# option shape = (8,8) , str 하나를 하나의 col 로 치겠음\n",
    "# print(option_1)\n",
    "# print('#####')\n",
    "# print(option_2)\n",
    "\n",
    "cands_crop = []\n",
    "\n",
    "for r in range(N - 7):\n",
    "    \n",
    "    for c in range (M - 7):\n",
    "        crop = []\n",
    "\n",
    "        for offset in range(8):\n",
    "            idx = r+offset\n",
    "            crop.append(cands_str[idx][c:c+8])\n",
    "\n",
    "        cands_crop.append([crop,0])\n",
    "\n",
    "# print(cands_crop)\n",
    "\n",
    "def count_str_diff(s1,s2):    \n",
    "    # 두 str 의 길이가 같다는 전제가 있기 때문에 이렇게 한다\n",
    "    count = 0\n",
    "    for idx in range(8):\n",
    "        if s1[idx] != s2[idx] :\n",
    "            count+=1\n",
    "    return count\n",
    "    \n",
    "for cand_idx,cand_crop in enumerate(cands_crop):\n",
    "    crop = cand_crop[0]    \n",
    "\n",
    "    option_1_count = 0\n",
    "    option_2_count = 0\n",
    "    for line_num in range(8):\n",
    "        crop_line = crop[line_num]\n",
    "        option_1_line = option_1[line_num]\n",
    "        option_2_line = option_2[line_num]\n",
    "\n",
    "        option_1_count += count_str_diff(crop_line,option_1_line)\n",
    "        option_2_count += count_str_diff(crop_line,option_2_line)\n",
    "    \n",
    "    cands_crop[cand_idx][1] = min(option_1_count,option_2_count)\n",
    "\n",
    "result = min (cands_crop,key=lambda x : x[1])[1]\n",
    "\n",
    "print(result)\n"
   ]
  },
  {
   "cell_type": "code",
   "execution_count": null,
   "metadata": {},
   "outputs": [],
   "source": []
  }
 ]
}