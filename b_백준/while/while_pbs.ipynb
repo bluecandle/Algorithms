{
 "metadata": {
  "language_info": {
   "codemirror_mode": {
    "name": "ipython",
    "version": 3
   },
   "file_extension": ".py",
   "mimetype": "text/x-python",
   "name": "python",
   "nbconvert_exporter": "python",
   "pygments_lexer": "ipython3",
   "version": "3.7.7-final"
  },
  "orig_nbformat": 2,
  "kernelspec": {
   "name": "python_defaultSpec_1600915170029",
   "display_name": "Python 3.7.7 64-bit ('aiffel': conda)"
  }
 },
 "nbformat": 4,
 "nbformat_minor": 2,
 "cells": [
  {
   "source": [
    "# 10952"
   ],
   "cell_type": "markdown",
   "metadata": {}
  },
  {
   "cell_type": "code",
   "execution_count": 1,
   "metadata": {
    "tags": []
   },
   "outputs": [
    {
     "output_type": "stream",
     "name": "stdout",
     "text": "2\n5\n7\n17\n7\n"
    }
   ],
   "source": [
    "\n",
    "flag = False\n",
    "while not flag:\n",
    "    nums = input().split(' ')\n",
    "    if nums == ['0','0']:\n",
    "        flag = True\n",
    "        break\n",
    "    num_1 = int(nums[0])\n",
    "    num_2 = int(nums[1])\n",
    "\n",
    "    print(num_1+num_2)\n"
   ]
  },
  {
   "source": [
    "# 10951\n",
    "EOF"
   ],
   "cell_type": "markdown",
   "metadata": {}
  },
  {
   "source": [
    "import sys\n",
    "for line in sys.stdin:\n",
    "    nums = line.split(' ')\n",
    "    num_1 = int(nums[0])\n",
    "    num_2 = int(nums[1])\n",
    "    print(num_1+num_2)"
   ],
   "cell_type": "code",
   "metadata": {
    "tags": []
   },
   "execution_count": null,
   "outputs": []
  },
  {
   "source": [
    "# 1110 "
   ],
   "cell_type": "markdown",
   "metadata": {}
  },
  {
   "cell_type": "code",
   "execution_count": 38,
   "metadata": {
    "tags": []
   },
   "outputs": [
    {
     "output_type": "stream",
     "name": "stdout",
     "text": "4\n"
    }
   ],
   "source": [
    "num = int(input())\n",
    "original = num\n",
    "count = 0\n",
    "while True:\n",
    "    quot = num//10\n",
    "    rem = num%10\n",
    "\n",
    "    temp = quot + rem\n",
    "    result = rem * 10 + temp%10\n",
    "    count+=1    \n",
    "\n",
    "    if result == original:\n",
    "        break\n",
    "\n",
    "    num = result\n",
    "print(count)"
   ]
  },
  {
   "cell_type": "code",
   "execution_count": null,
   "metadata": {},
   "outputs": [],
   "source": []
  }
 ]
}