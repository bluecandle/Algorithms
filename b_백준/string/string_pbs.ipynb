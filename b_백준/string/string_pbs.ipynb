{
 "metadata": {
  "language_info": {
   "codemirror_mode": {
    "name": "ipython",
    "version": 3
   },
   "file_extension": ".py",
   "mimetype": "text/x-python",
   "name": "python",
   "nbconvert_exporter": "python",
   "pygments_lexer": "ipython3",
   "version": "3.7.7-final"
  },
  "orig_nbformat": 2,
  "kernelspec": {
   "name": "Python 3.7.7 64-bit ('aiffel': conda)",
   "display_name": "Python 3.7.7 64-bit ('aiffel': conda)",
   "metadata": {
    "interpreter": {
     "hash": "f5a23dafa1167ad26407da34d61d47c6735277f7e3900a1acafb810bbe457929"
    }
   }
  }
 },
 "nbformat": 4,
 "nbformat_minor": 2,
 "cells": [
  {
   "source": [
    "# 11654"
   ],
   "cell_type": "markdown",
   "metadata": {}
  },
  {
   "cell_type": "code",
   "execution_count": 1,
   "metadata": {
    "tags": []
   },
   "outputs": [
    {
     "output_type": "stream",
     "name": "stdout",
     "text": "65\n"
    }
   ],
   "source": [
    "print(ord(input()))"
   ]
  },
  {
   "source": [
    "# 11720"
   ],
   "cell_type": "markdown",
   "metadata": {}
  },
  {
   "cell_type": "code",
   "execution_count": 2,
   "metadata": {
    "tags": []
   },
   "outputs": [
    {
     "output_type": "stream",
     "name": "stdout",
     "text": "15\n"
    }
   ],
   "source": [
    "N = int(input())\n",
    "nums = list(map(int,input()))\n",
    "print(sum(nums))\n"
   ]
  },
  {
   "source": [
    "# 1157"
   ],
   "cell_type": "markdown",
   "metadata": {}
  },
  {
   "cell_type": "code",
   "execution_count": 14,
   "metadata": {
    "tags": []
   },
   "outputs": [
    {
     "output_type": "stream",
     "name": "stdout",
     "text": "?\n"
    }
   ],
   "source": [
    "from collections import Counter\n",
    "_str = input().lower()\n",
    "\n",
    "if len(_str) == 1:\n",
    "    print(_str.upper())\n",
    "else:\n",
    "    c = Counter(_str)\n",
    "    \n",
    "    _most = c.most_common(1)[0][0]\n",
    "    _val = c[_most]\n",
    "\n",
    "    del c[_most]\n",
    "    \n",
    "    _most_2 = c.most_common(1)[0][0]\n",
    "    _val_2 = c[_most_2]\n",
    "    if _val == _val_2:\n",
    "        print('?')\n",
    "    else:\n",
    "        print(_most.upper())"
   ]
  },
  {
   "source": [
    "# 1152"
   ],
   "cell_type": "markdown",
   "metadata": {}
  },
  {
   "cell_type": "code",
   "execution_count": 7,
   "metadata": {
    "tags": []
   },
   "outputs": [
    {
     "output_type": "stream",
     "name": "stdout",
     "text": "Counter({'': 2, 'The': 1, 'Curious': 1, 'Case': 1, 'of': 1, 'Benjamin': 1, 'Button': 1})\n6\n"
    }
   ],
   "source": [
    "from collections import Counter\n",
    "words = Counter(input().split(' '))\n",
    "result = 0\n",
    "for item in words.items():\n",
    "    if item[0] != '':\n",
    "        result += item[1]\n",
    "print(result)\n"
   ]
  },
  {
   "source": [
    "# 2941"
   ],
   "cell_type": "markdown",
   "metadata": {}
  },
  {
   "cell_type": "code",
   "execution_count": 12,
   "metadata": {
    "tags": []
   },
   "outputs": [
    {
     "output_type": "stream",
     "name": "stdout",
     "text": "3\n"
    }
   ],
   "source": [
    "CHARS = ['c=','c-','dz=','d-','lj','nj','s=','z=']\n",
    "\n",
    "line = input()\n",
    "for c in CHARS:\n",
    "    line = line.replace(c,'.')\n",
    "\n",
    "print(len(line))"
   ]
  },
  {
   "cell_type": "code",
   "execution_count": null,
   "metadata": {},
   "outputs": [],
   "source": []
  }
 ]
}