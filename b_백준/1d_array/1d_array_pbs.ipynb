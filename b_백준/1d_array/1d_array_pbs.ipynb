{
 "metadata": {
  "language_info": {
   "codemirror_mode": {
    "name": "ipython",
    "version": 3
   },
   "file_extension": ".py",
   "mimetype": "text/x-python",
   "name": "python",
   "nbconvert_exporter": "python",
   "pygments_lexer": "ipython3",
   "version": "3.7.7-final"
  },
  "orig_nbformat": 2,
  "kernelspec": {
   "name": "Python 3.7.7 64-bit ('aiffel': conda)",
   "display_name": "Python 3.7.7 64-bit ('aiffel': conda)",
   "metadata": {
    "interpreter": {
     "hash": "f5a23dafa1167ad26407da34d61d47c6735277f7e3900a1acafb810bbe457929"
    }
   }
  }
 },
 "nbformat": 4,
 "nbformat_minor": 2,
 "cells": [
  {
   "source": [
    "# 10818"
   ],
   "cell_type": "markdown",
   "metadata": {}
  },
  {
   "cell_type": "code",
   "execution_count": 5,
   "metadata": {
    "tags": []
   },
   "outputs": [
    {
     "output_type": "stream",
     "name": "stdout",
     "text": "1 17\n"
    }
   ],
   "source": [
    "N = int(input())\n",
    "_in_nums = input().split(' ')\n",
    "nums = []\n",
    "\n",
    "for n in _in_nums:\n",
    "    nums.append(int(n))\n",
    "\n",
    "print(min(nums),max(nums))\n"
   ]
  },
  {
   "source": [
    "# 2562"
   ],
   "cell_type": "markdown",
   "metadata": {}
  },
  {
   "cell_type": "code",
   "execution_count": 6,
   "metadata": {
    "tags": []
   },
   "outputs": [
    {
     "output_type": "stream",
     "name": "stdout",
     "text": "1\n1\n"
    }
   ],
   "source": [
    "import sys\n",
    "\n",
    "max_idx = 1\n",
    "max_val = 1\n",
    "\n",
    "for idx,line in enumerate(sys.stdin):    \n",
    "    n = int(line)\n",
    "    if n > max_val:\n",
    "        max_val = n\n",
    "        max_idx = (idx+1)\n",
    "\n",
    "print(max_val)\n",
    "print(max_idx)\n",
    "    \n",
    "    "
   ]
  },
  {
   "source": [
    "# 4344"
   ],
   "cell_type": "markdown",
   "metadata": {}
  },
  {
   "cell_type": "code",
   "execution_count": 9,
   "metadata": {
    "tags": []
   },
   "outputs": [],
   "source": [
    "import sys\n",
    "\n",
    "inputs = sys.stdin\n",
    "C = 0\n",
    "for idx,line in enumerate(sys.stdin):\n",
    "    \n",
    "    if idx == 0:\n",
    "        C = int(line)\n",
    "    else:\n",
    "        nums = list(map(int,line.split(' ')))\n",
    "\n",
    "        s_num = nums[0]\n",
    "        scores = nums[1:]\n",
    "\n",
    "        avg = sum(scores)/s_num\n",
    "\n",
    "        count = 0\n",
    "        for n in scores:\n",
    "            if n > avg:\n",
    "                count+=1\n",
    "        \n",
    "        result = (count/s_num)*100\n",
    "        print('{:.3f}'.format(result)+'%')"
   ]
  },
  {
   "cell_type": "code",
   "execution_count": null,
   "metadata": {},
   "outputs": [],
   "source": []
  }
 ]
}