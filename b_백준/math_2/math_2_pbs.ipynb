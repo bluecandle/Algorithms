{
 "metadata": {
  "language_info": {
   "codemirror_mode": {
    "name": "ipython",
    "version": 3
   },
   "file_extension": ".py",
   "mimetype": "text/x-python",
   "name": "python",
   "nbconvert_exporter": "python",
   "pygments_lexer": "ipython3",
   "version": "3.7.7-final"
  },
  "orig_nbformat": 2,
  "kernelspec": {
   "name": "Python 3.7.7 64-bit ('aiffel': conda)",
   "display_name": "Python 3.7.7 64-bit ('aiffel': conda)",
   "metadata": {
    "interpreter": {
     "hash": "f5a23dafa1167ad26407da34d61d47c6735277f7e3900a1acafb810bbe457929"
    }
   }
  }
 },
 "nbformat": 4,
 "nbformat_minor": 2,
 "cells": [
  {
   "source": [
    "# 1978"
   ],
   "cell_type": "markdown",
   "metadata": {}
  },
  {
   "cell_type": "code",
   "execution_count": 1,
   "metadata": {
    "tags": []
   },
   "outputs": [
    {
     "output_type": "stream",
     "name": "stdout",
     "text": "3\n"
    }
   ],
   "source": [
    "import math\n",
    "def is_prime(n):\n",
    "    if n < 2:\n",
    "        return False\n",
    "    if n == 2:\n",
    "        return True\n",
    "    if n % 2 == 0:\n",
    "        return False\n",
    "\t\t# 제곱근 씌우고 반올림 한 값\n",
    "    sqrt_n = int(math.floor(math.sqrt(n)))\n",
    "\t\t# 3부터 위에서 구한 값까지(+1 해줬으니) 2씩 증가시키며 i를 꺼낸다.\n",
    "    for i in range(3, sqrt_n + 1, 2):\n",
    "\t\t\t\t# 꺼낸 i로 나눈 나머지가 0이면 소수가 아님 (나머지가 있어야 소수)\n",
    "        if n % i == 0:\n",
    "            return False\n",
    "\t\t# 다 통과하면 소수다.\n",
    "    return True\n",
    "\n",
    "N = int(input())\n",
    "nums = list(map(int,input().split(' ')))\n",
    "\n",
    "answer = 0\n",
    "for n in nums:\n",
    "    if is_prime(n):\n",
    "        answer+=1\n",
    "\n",
    "print(answer)"
   ]
  },
  {
   "source": [
    "# 2581"
   ],
   "cell_type": "markdown",
   "metadata": {}
  },
  {
   "cell_type": "code",
   "execution_count": 3,
   "metadata": {
    "tags": []
   },
   "outputs": [
    {
     "output_type": "stream",
     "name": "stdout",
     "text": "620\n61\n"
    }
   ],
   "source": [
    "import math\n",
    "def is_prime(n):\n",
    "    if n < 2:\n",
    "        return False\n",
    "    if n == 2:\n",
    "        return True\n",
    "    if n % 2 == 0:\n",
    "        return False\n",
    "\t\t# 제곱근 씌우고 내림한 값\n",
    "    sqrt_n = int(math.floor(math.sqrt(n)))\n",
    "\t\t# 3부터 위에서 구한 값까지(+1 해줬으니) 2씩 증가시키며 i를 꺼낸다.\n",
    "    for i in range(3, sqrt_n + 1, 2):\n",
    "\t\t\t\t# 꺼낸 i로 나눈 나머지가 0이면 소수가 아님 (나머지가 있어야 소수)\n",
    "        if n % i == 0:\n",
    "            return False\n",
    "\t\t# 다 통과하면 소수다.\n",
    "    return True\n",
    "\n",
    "M = int(input())\n",
    "N = int(input())\n",
    "\n",
    "_min = N+1\n",
    "_sum = 0\n",
    "\n",
    "for n in range(M,N+1):\n",
    "    if is_prime(n):\n",
    "        if n < _min:\n",
    "            _min = n\n",
    "        _sum+=n\n",
    "\n",
    "if _sum == 0:\n",
    "    print('-1')\n",
    "else:\n",
    "    print(_sum)\n",
    "    print(_min)"
   ]
  },
  {
   "source": [
    "# 1929"
   ],
   "cell_type": "markdown",
   "metadata": {
    "tags": []
   }
  },
  {
   "cell_type": "code",
   "execution_count": 5,
   "metadata": {
    "tags": []
   },
   "outputs": [
    {
     "output_type": "stream",
     "name": "stdout",
     "text": "3\n5\n7\n11\n13\n"
    }
   ],
   "source": [
    "import math\n",
    "def is_prime(n):\n",
    "    if n < 2:\n",
    "        return False\n",
    "    if n == 2:\n",
    "        return True\n",
    "    if n % 2 == 0:\n",
    "        return False\n",
    "\t\t# 제곱근 씌우고 내림한 값\n",
    "    sqrt_n = int(math.floor(math.sqrt(n)))\n",
    "\t\t# 3부터 위에서 구한 값까지(+1 해줬으니) 2씩 증가시키며 i를 꺼낸다.\n",
    "    for i in range(3, sqrt_n + 1, 2):\n",
    "\t\t\t\t# 꺼낸 i로 나눈 나머지가 0이면 소수가 아님 (나머지가 있어야 소수)\n",
    "        if n % i == 0:\n",
    "            return False\n",
    "\t\t# 다 통과하면 소수다.\n",
    "    return True\n",
    "\n",
    "M,N = map(int,input().split(' '))\n",
    "for n in range(M,N+1):\n",
    "    if is_prime(n):\n",
    "        print(n)"
   ]
  },
  {
   "source": [
    "# 4948\n",
    "베르트랑 공준\n",
    "\n",
    "베르트랑 공준은 임의의 자연수 n에 대하여, n보다 크고, 2n보다 작거나 같은 소수는 적어도 하나 존재한다는 내용을 담고 있다.\n",
    "\n",
    "이 명제는 조제프 베르트랑이 1845년에 추측했고, 파프누티 체비쇼프가 1850년에 증명했다.\n",
    "\n",
    "예를 들어, 10보다 크고, 20보다 작거나 같은 소수는 4개가 있다. (11, 13, 17, 19) 또, 14보다 크고, 28보다 작거나 같은 소수는 3개가 있다. (17,19, 23)\n",
    "\n",
    "n이 주어졌을 때, n보다 크고, 2n보다 작거나 같은 소수의 개수를 구하는 프로그램을 작성하시오. "
   ],
   "cell_type": "markdown",
   "metadata": {}
  },
  {
   "cell_type": "code",
   "execution_count": 14,
   "metadata": {
    "tags": []
   },
   "outputs": [
    {
     "output_type": "stream",
     "name": "stdout",
     "text": "1\n10186\n"
    }
   ],
   "source": [
    "# import sys\n",
    "# import math\n",
    "# def is_prime(n):\n",
    "#     if n < 2:\n",
    "#         return False\n",
    "#     if n == 2:\n",
    "#         return True\n",
    "#     if n % 2 == 0:\n",
    "#         return False\n",
    "# \t\t# 제곱근 씌우고 내림한 값\n",
    "#     sqrt_n = int(math.floor(math.sqrt(n)))\n",
    "# \t\t# 3부터 위에서 구한 값까지(+1 해줬으니) 2씩 증가시키며 i를 꺼낸다.\n",
    "#     for i in range(3, sqrt_n + 1, 2):\n",
    "# \t\t\t\t# 꺼낸 i로 나눈 나머지가 0이면 소수가 아님 (나머지가 있어야 소수)\n",
    "#         if n % i == 0:\n",
    "#             return False\n",
    "# \t\t# 다 통과하면 소수다.\n",
    "#     return True\n",
    "\n",
    "\n",
    "# # 미리 소수를 다 만들어놓고 범위에 맞춰서 세는건?\n",
    "\n",
    "# MAX = 123456\n",
    "# primes = []\n",
    "# for n in range(2,MAX*2+1):\n",
    "#     if is_prime(n):\n",
    "#         primes.append(n)\n",
    "\n",
    "# # for line in sys.stdin:\n",
    "# #     num = int(line)    \n",
    "# #     if num == 0:\n",
    "# #         break\n",
    "    \n",
    "# #     count = 0\n",
    "# #     for n in range(num+1,2*num+1):\n",
    "# #         if n in primes:\n",
    "# #             count+=1\n",
    "# #     print(count)\n",
    "\n",
    "# def prime_cnt(val):\n",
    "#     cnt = 0\n",
    "#     for i in range(val + 1, val * 2 + 1):\n",
    "#         if i in primes:\n",
    "#             cnt += 1\n",
    "#     print(cnt)\n",
    "\n",
    "# while True:\n",
    "#     val = int(input())\n",
    "#     if val == 0:\n",
    "#         break\n",
    "#     prime_cnt(val)\n",
    "\n",
    "# 에라토스테네스의 체\n",
    "\n",
    "N = 123456 * 2 + 1\n",
    "sieve = [True] * N\n",
    "for i in range(2, int(N**0.5)+1):\n",
    "    if sieve[i]:\n",
    "        for j in range(2*i, N, i):\n",
    "            sieve[j] = False\n",
    "\n",
    "def prime_cnt(val):\n",
    "    cnt = 0\n",
    "    for i in range(val + 1, val * 2 + 1):\n",
    "        if sieve[i]:\n",
    "            cnt += 1\n",
    "    print(cnt)\n",
    "\n",
    "while True:\n",
    "    val = int(input())\n",
    "    if val == 0:\n",
    "        break\n",
    "    prime_cnt(val)"
   ]
  },
  {
   "source": [
    "# 9020\n",
    "골드바흐의 추측\n",
    "\n",
    "2보다 큰 모든 짝수는 두 소수의 합으로 나타낼 수 있다는 것이다. 이러한 수를 골드바흐 수라고 한다. 또, 짝수를 두 소수의 합으로 나타내는 표현을 그 수의 골드바흐 파티션이라고 한다. 예를 들면, 4 = 2 + 2, 6 = 3 + 3, 8 = 3 + 5, 10 = 5 + 5, 12 = 5 + 7, 14 = 3 + 11, 14 = 7 + 7이다. 10000보다 작거나 같은 모든 짝수 n에 대한 골드바흐 파티션은 존재한다.\n",
    "\n",
    "2보다 큰 짝수 n이 주어졌을 때, n의 골드바흐 파티션을 출력하는 프로그램을 작성하시오. 만약 가능한 n의 골드바흐 파티션이 여러 가지인 경우에는 두 소수의 차이가 가장 작은 것을 출력한다.\n",
    "\n",
    "\n",
    "첫째 줄에 테스트 케이스의 개수 T가 주어진다. 각 테스트 케이스는 한 줄로 이루어져 있고 짝수 n이 주어진다. (4 ≤ n ≤ 10,000)"
   ],
   "cell_type": "markdown",
   "metadata": {}
  },
  {
   "cell_type": "code",
   "execution_count": 6,
   "metadata": {
    "tags": []
   },
   "outputs": [
    {
     "output_type": "stream",
     "name": "stdout",
     "text": "3 5\n5 5\n5 11\n"
    }
   ],
   "source": [
    "T = int(input())\n",
    "\n",
    "N = 10001\n",
    "sieve = [True] * N\n",
    "for i in range(2, int(N**0.5)+1):\n",
    "    if sieve[i]:\n",
    "        for j in range(2*i, N, i):\n",
    "            # print(i,j)\n",
    "            sieve[j] = False\n",
    "# print(sieve)\n",
    "for t in range(T):\n",
    "    num = int(input())\n",
    "    middle =  num//2\n",
    "    start = middle\n",
    "    end = middle\n",
    "    # print(middle,start,end)\n",
    "    while True:\n",
    "        if sieve[start] and sieve[end]:\n",
    "            print(start,end)\n",
    "            break\n",
    "        else:\n",
    "            start-=1\n",
    "            end+=1\n",
    "    \n",
    "\n"
   ]
  },
  {
   "cell_type": "code",
   "execution_count": null,
   "metadata": {},
   "outputs": [],
   "source": []
  }
 ]
}