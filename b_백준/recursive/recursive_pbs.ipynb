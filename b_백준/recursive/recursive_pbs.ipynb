{
 "metadata": {
  "language_info": {
   "codemirror_mode": {
    "name": "ipython",
    "version": 3
   },
   "file_extension": ".py",
   "mimetype": "text/x-python",
   "name": "python",
   "nbconvert_exporter": "python",
   "pygments_lexer": "ipython3",
   "version": "3.7.7-final"
  },
  "orig_nbformat": 2,
  "kernelspec": {
   "name": "Python 3.7.7 64-bit",
   "display_name": "Python 3.7.7 64-bit",
   "metadata": {
    "interpreter": {
     "hash": "f5a23dafa1167ad26407da34d61d47c6735277f7e3900a1acafb810bbe457929"
    }
   }
  }
 },
 "nbformat": 4,
 "nbformat_minor": 2,
 "cells": [
  {
   "source": [
    "# 10872"
   ],
   "cell_type": "markdown",
   "metadata": {}
  },
  {
   "cell_type": "code",
   "execution_count": 4,
   "metadata": {
    "tags": []
   },
   "outputs": [
    {
     "output_type": "stream",
     "name": "stdout",
     "text": "3628800\n"
    }
   ],
   "source": [
    "N = int(input())\n",
    "\n",
    "def fact(n):    \n",
    "    if n == 0 or n == 1:\n",
    "        return 1\n",
    "    else:\n",
    "        return n * fact(n-1)\n",
    "print(fact(N))"
   ]
  },
  {
   "source": [
    "# 10870"
   ],
   "cell_type": "markdown",
   "metadata": {}
  },
  {
   "cell_type": "code",
   "execution_count": 5,
   "metadata": {
    "tags": []
   },
   "outputs": [
    {
     "output_type": "stream",
     "name": "stdout",
     "text": "55\n"
    }
   ],
   "source": [
    "N = int(input())\n",
    "\n",
    "def fib(n):\n",
    "    if n < 2:\n",
    "        return n\n",
    "    else:\n",
    "        return fib(n-1) + fib(n-2)\n",
    "print(fib(N))"
   ]
  },
  {
   "source": [
    "# 2447\n",
    "\n",
    "프랙탈 도형을 그리는 문제이다. 프랙탈 같은 경우는 최소 단위로 쪼갤 수 있기에 분할 정복 알고리즘(Divide and Conquer)을 이용해 풀 수 있다. 분할 정복 알고리즘의 단계를 분할, 정복, 합치기 세 개로 나누면 쉽게 기억할 수 있다."
   ],
   "cell_type": "markdown",
   "metadata": {}
  },
  {
   "cell_type": "code",
   "execution_count": null,
   "metadata": {},
   "outputs": [],
   "source": [
    "# 다른사람 풀이\n",
    "# https://hwiyong.tistory.com/213\n",
    "import sys\n",
    "\n",
    "num = int(input())\n",
    "\n",
    "def star(i, j):\n",
    "    while(i != 0):\n",
    "        # 나머지가 1인 경우\n",
    "        if(i % 3 == 1 and j % 3 == 1):\n",
    "            sys.stdout.write(' ')\n",
    "            return None\n",
    "        # 3으로 나누어서 위의 if문에 걸리면 그 부분도 빈칸 처리\n",
    "        i = i // 3\n",
    "        j = j // 3\n",
    "    sys.stdout.write('*')\n",
    "\n",
    "for i in range(num):\n",
    "    for j in range(num):\n",
    "            star(i, j)\n",
    "    sys.stdout.write('\\n')\n",
    "\n",
    "\n",
    "# 다른사람 풀이\n",
    "\n",
    "# def concatenate(r1, r2):\n",
    "#     return [''.join(x) for x in zip(r1, r2, r1)]\n",
    " \n",
    "# def star10(n):\n",
    "#     if n == 1:\n",
    "#         return ['*']\n",
    "#     n //= 3\n",
    "#     x = star10(n)\n",
    "#     a = concatenate(x, x)\n",
    "#     b = concatenate(x, [' '*n]*n)\n",
    " \n",
    "#     return a + b + a\n",
    " \n",
    "# print('\\n'.join(star10(int(input()))))"
   ]
  },
  {
   "source": [
    "# 11729\n",
    "\n",
    "하노이탑 이동순서\n",
    "\n",
    "맨 밑에 원판 제외하고 1번에서 2번으로 옮긴다.\n",
    "맨 밑의 원판을 1번에서 3번으로 옮긴다\n",
    "그리고 2번으로 옮긴 n-1개의 원판을 2번에서 3번으로 옮긴다.\n",
    "\n",
    "\n",
    "[재귀복습, 설명영상](https://www.youtube.com/watch?v=aPYE0anPZqI&ab_channel=%EC%96%84%ED%8C%8D%ED%95%9C%EC%BD%94%EB%94%A9%EC%82%AC%EC%A0%84)"
   ],
   "cell_type": "markdown",
   "metadata": {}
  },
  {
   "cell_type": "code",
   "execution_count": 13,
   "metadata": {
    "tags": []
   },
   "outputs": [
    {
     "output_type": "stream",
     "name": "stdout",
     "text": "7\n1 3\n1 2\n3 2\n1 3\n2 1\n2 3\n1 3\n"
    }
   ],
   "source": [
    "N = int(input())\n",
    "\n",
    "def hanoi(n,_from,_to,_other):\n",
    "    if n ==1 : \n",
    "        print(_from,_to)\n",
    "        return\n",
    "    else:\n",
    "        # 맨 밑에 있는 원판이 없다고 생각하고 n-1 개의 원판을 1에서 2번으로 옮긴다\n",
    "        hanoi(n-1,_from,_other,_to)\n",
    "        # 맨 밑 원판을 1에서 3으로 옮긴다\n",
    "        print(_from,_to)\n",
    "        # 2로 옮긴 n-1개의 원판을 3으로 옮긴다\n",
    "        hanoi(n-1,_other,_to,_from)\n",
    "\n",
    "print(2**N-1)\n",
    "hanoi(N,1,3,2)"
   ]
  },
  {
   "cell_type": "code",
   "execution_count": null,
   "metadata": {},
   "outputs": [],
   "source": []
  }
 ]
}