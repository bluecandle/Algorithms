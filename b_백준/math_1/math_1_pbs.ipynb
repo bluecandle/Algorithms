{
 "metadata": {
  "language_info": {
   "codemirror_mode": {
    "name": "ipython",
    "version": 3
   },
   "file_extension": ".py",
   "mimetype": "text/x-python",
   "name": "python",
   "nbconvert_exporter": "python",
   "pygments_lexer": "ipython3",
   "version": "3.7.7-final"
  },
  "orig_nbformat": 2,
  "kernelspec": {
   "name": "Python 3.7.7 64-bit ('aiffel': conda)",
   "display_name": "Python 3.7.7 64-bit ('aiffel': conda)",
   "metadata": {
    "interpreter": {
     "hash": "f5a23dafa1167ad26407da34d61d47c6735277f7e3900a1acafb810bbe457929"
    }
   }
  }
 },
 "nbformat": 4,
 "nbformat_minor": 2,
 "cells": [
  {
   "source": [
    "# 1712\n",
    "\n",
    "- A 고정비용\n",
    "- B 가변비용\n",
    "- C 노트북 가격\n",
    "손익분기점"
   ],
   "cell_type": "markdown",
   "metadata": {}
  },
  {
   "cell_type": "code",
   "execution_count": 13,
   "metadata": {
    "tags": []
   },
   "outputs": [
    {
     "output_type": "stream",
     "name": "stdout",
     "text": "-1\n"
    }
   ],
   "source": [
    "A,B,C = map(int,input().split(' '))\n",
    "\n",
    "gap = C-B\n",
    "\n",
    "if gap <= 0:\n",
    "    print(-1)\n",
    "else:\n",
    "    print(int(A/gap)+1)"
   ]
  },
  {
   "source": [
    "# 2839\n",
    "최대 경우의 수가 1.6^6 정도여서, 그냥 완전탐색해도 될듯."
   ],
   "cell_type": "markdown",
   "metadata": {}
  },
  {
   "cell_type": "code",
   "execution_count": 25,
   "metadata": {
    "tags": []
   },
   "outputs": [
    {
     "output_type": "stream",
     "name": "stdout",
     "text": "-1\n"
    }
   ],
   "source": [
    "K = int(input())\n",
    "if K == 3 or K == 5:\n",
    "    print(1)\n",
    "elif K == 4:\n",
    "    print(-1)\n",
    "else:\n",
    "    max_5 = int(K/5)\n",
    "    bags = 2000\n",
    "\n",
    "    for i in range(max_5+1):\n",
    "        rest = (K - 5*i)\n",
    "        # print(rest%3,i)\n",
    "        if rest%3 != 0:\n",
    "            continue\n",
    "        else:\n",
    "            t = i + int(rest/3)\n",
    "            if  t < bags:\n",
    "                bags = t\n",
    "    if bags == 2000:\n",
    "        print(-1)\n",
    "    else:\n",
    "        print(bags)"
   ]
  },
  {
   "source": [
    "# 2869"
   ],
   "cell_type": "markdown",
   "metadata": {}
  },
  {
   "cell_type": "code",
   "execution_count": 28,
   "metadata": {
    "tags": []
   },
   "outputs": [
    {
     "output_type": "stream",
     "name": "stdout",
     "text": "4\n"
    }
   ],
   "source": [
    "import math\n",
    "A, B, V = map(int,input().split(' '))\n",
    "\n",
    "diff = A - B\n",
    "\n",
    "print(math.ceil( (V-A)/diff ) + 1)"
   ]
  },
  {
   "source": [
    "# 10250"
   ],
   "cell_type": "markdown",
   "metadata": {}
  },
  {
   "cell_type": "code",
   "execution_count": 30,
   "metadata": {
    "tags": []
   },
   "outputs": [
    {
     "output_type": "stream",
     "name": "stdout",
     "text": "402\n1203\n"
    }
   ],
   "source": [
    "T = int(input())\n",
    "for t in range(T):\n",
    "    H, W, N = map(int,input().split(' '))\n",
    "    row = N%H\n",
    "    col = N//H +1\n",
    "\n",
    "    # 꼭대기에 있는 경우에만 따로 처리\n",
    "    if row == 0:\n",
    "        row = H\n",
    "        col -=1\n",
    "\n",
    "    print(row*100+col)\n"
   ]
  },
  {
   "source": [
    "# 1011\n",
    "\n"
   ],
   "cell_type": "markdown",
   "metadata": {}
  },
  {
   "cell_type": "code",
   "execution_count": null,
   "metadata": {},
   "outputs": [],
   "source": [
    "import math\n",
    "\n",
    "T = int(input())\n",
    "for t in range(T):\n",
    "    # x 현재 y 목표\n",
    "    x, y = map(int,input().split(' '))\n",
    "    diff = int(y - x)\n",
    "\n",
    "    # 횟수가 늘어나는 규칙을 이용한 풀이\n",
    "    # count = 0\n",
    "    # step = 1\n",
    "    # total_move = 0\n",
    "\n",
    "    # while total_move < diff:\n",
    "    #     count +=1\n",
    "    #     total_move += step\n",
    "    #     if count %2 == 0:\n",
    "    #         step +=1\n",
    "\n",
    "    # 제곱근 이용\n",
    "    # 3 이하는 그대로 출력\n",
    "    if diff <= 3:\n",
    "        print(diff)\n",
    "    else:\n",
    "        # 거리 차이의 제곱근(floor)\n",
    "        n = int(math.sqrt(diff))\n",
    "        # 거리 차이와 제곱근**2 가 같으면 : 2*제곱근 - 1\n",
    "        if diff == n ** 2:\n",
    "            print(2*n-1)\n",
    "        # 거리 차이가 제곱근**2 보다는 크고, 제곱근**2 + n 보다 작거나 같으면 :  2*제곱근\n",
    "        elif n ** 2 < diff <= n ** 2 + n:\n",
    "            print(2*n)\n",
    "        # 거리 차이가 제곱근**2 + n 보다 크다면 : 2*제곱근 + 1 \n",
    "        else:\n",
    "            print(2*n+1)\n"
   ]
  }
 ]
}